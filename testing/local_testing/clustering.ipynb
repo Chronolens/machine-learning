{
 "cells": [
  {
   "cell_type": "code",
   "execution_count": null,
   "metadata": {},
   "outputs": [],
   "source": [
    "import pandas as pd\n",
    "import numpy as np\n",
    "from sklearn.cluster import DBSCAN\n",
    "from sklearn.preprocessing import StandardScaler\n",
    "from sklearn.metrics.pairwise import cosine_distances\n",
    "import matplotlib.pyplot as plt\n",
    "import seaborn as sns\n",
    "from sklearn.manifold import TSNE\n",
    "\n",
    "data = pd.read_csv('large_dataset_face_data.csv')\n",
    "\n",
    "data['embedding'] = data['embedding'].apply(lambda x: np.fromstring(x.strip('[]'), sep=','))\n",
    "embeddings = np.stack(data['embedding'].values)\n",
    "\n"
   ]
  },
  {
   "cell_type": "code",
   "execution_count": null,
   "metadata": {},
   "outputs": [],
   "source": [
    "embeddings = StandardScaler().fit_transform(embeddings)"
   ]
  },
  {
   "cell_type": "code",
   "execution_count": null,
   "metadata": {},
   "outputs": [],
   "source": [
    "distance_matrix = cosine_distances(embeddings)\n",
    "\n",
    "db = DBSCAN(eps=0.5, min_samples=3, metric='precomputed')\n",
    "clusters = db.fit_predict(distance_matrix)"
   ]
  },
  {
   "cell_type": "code",
   "execution_count": null,
   "metadata": {},
   "outputs": [],
   "source": [
    "data['cluster'] = clusters"
   ]
  },
  {
   "cell_type": "code",
   "execution_count": null,
   "metadata": {},
   "outputs": [],
   "source": [
    "tsne = TSNE(n_components=2, random_state=42, perplexity=30)\n",
    "embeddings_2d = tsne.fit_transform(embeddings)\n",
    "\n",
    "plot_data = pd.DataFrame(embeddings_2d, columns=['x', 'y'])\n",
    "plot_data['cluster'] = data['cluster']\n",
    "\n",
    "\n",
    "plt.figure(figsize=(12, 8))\n",
    "sns.scatterplot(x='x', y='y', hue='cluster', data=plot_data, palette='viridis', legend='full', alpha=0.7)\n",
    "plt.title('t-SNE Visualization of Face Embeddings Clusters')\n",
    "plt.xlabel('t-SNE Component 1')\n",
    "plt.ylabel('t-SNE Component 2')\n",
    "plt.legend(title='Cluster', bbox_to_anchor=(1.05, 1), loc='upper left')\n",
    "plt.grid(True)\n",
    "plt.show()"
   ]
  },
  {
   "cell_type": "code",
   "execution_count": null,
   "metadata": {},
   "outputs": [],
   "source": [
    "def plot_images_in_clusters(data, n_images_per_cluster=5, max_clusters=3):\n",
    "    unique_clusters = data['cluster'].unique()\n",
    "\n",
    "\n",
    "    cluster_counter = 0\n",
    "\n",
    "    for cluster in unique_clusters:\n",
    "        # if cluster_counter >= max_clusters:\n",
    "        #     break\n",
    "        \n",
    "        if cluster == -1:\n",
    "            continue\n",
    "        \n",
    "        plt.figure(figsize=(15, 5))\n",
    "        cluster_data = data[data['cluster'] == cluster]\n",
    "        \n",
    "        sample_data = cluster_data.sample(n=min(n_images_per_cluster, len(cluster_data)))\n",
    "        \n",
    "        for i, (index, row) in enumerate(sample_data.iterrows()):\n",
    "            img = plt.imread(row['file_path']) \n",
    "            plt.subplot(1, n_images_per_cluster, i + 1)\n",
    "            plt.imshow(img)\n",
    "            plt.axis('off')\n",
    "            plt.title(f'Cluster {cluster}')\n",
    "        \n",
    "        plt.suptitle(f'Images from Cluster {cluster}', fontsize=16)\n",
    "        plt.show()\n",
    "\n",
    "        cluster_counter += 1\n",
    "\n",
    "plot_images_in_clusters(data)"
   ]
  },
  {
   "cell_type": "code",
   "execution_count": null,
   "metadata": {},
   "outputs": [],
   "source": [
    "data_large = pd.read_csv('generated/large_dataset_face_data.csv')\n",
    "\n",
    "data_large['embedding'] = data_large['embedding'].apply(lambda x: np.fromstring(x.strip('[]'), sep=','))\n",
    "embeddings = np.stack(data_large['embedding'].values)\n",
    "\n",
    "embeddings = StandardScaler().fit_transform(embeddings)"
   ]
  },
  {
   "cell_type": "code",
   "execution_count": null,
   "metadata": {},
   "outputs": [],
   "source": [
    "distance_matrix = cosine_distances(embeddings)\n",
    "\n",
    "db = DBSCAN(eps=0.5, min_samples=5, metric='precomputed')\n",
    "clusters = db.fit_predict(distance_matrix)\n",
    "\n",
    "data_large['cluster'] = clusters"
   ]
  },
  {
   "cell_type": "code",
   "execution_count": null,
   "metadata": {},
   "outputs": [],
   "source": [
    "tsne = TSNE(n_components=2, random_state=42, perplexity=30)\n",
    "embeddings_2d = tsne.fit_transform(embeddings)"
   ]
  },
  {
   "cell_type": "code",
   "execution_count": null,
   "metadata": {},
   "outputs": [],
   "source": [
    "plot_data = pd.DataFrame(embeddings_2d, columns=['x', 'y'])\n",
    "plot_data['cluster'] = data_large['cluster']\n",
    "\n",
    "plt.figure(figsize=(12, 8))\n",
    "sns.scatterplot(x='x', y='y', hue='cluster', data=plot_data, palette='viridis', legend='full', alpha=0.7)\n",
    "plt.title('t-SNE Visualization of Face Embeddings Clusters')\n",
    "plt.xlabel('t-SNE Component 1')\n",
    "plt.ylabel('t-SNE Component 2')\n",
    "plt.legend(title='Cluster', bbox_to_anchor=(1.05, 1), loc='upper left')\n",
    "plt.grid(True)\n",
    "plt.show()"
   ]
  },
  {
   "cell_type": "code",
   "execution_count": null,
   "metadata": {},
   "outputs": [],
   "source": [
    "plot_images_in_clusters(data_large)"
   ]
  }
 ],
 "metadata": {
  "kernelspec": {
   "display_name": "Python 3",
   "language": "python",
   "name": "python3"
  },
  "language_info": {
   "codemirror_mode": {
    "name": "ipython",
    "version": 3
   },
   "file_extension": ".py",
   "mimetype": "text/x-python",
   "name": "python",
   "nbconvert_exporter": "python",
   "pygments_lexer": "ipython3",
   "version": "3.12.6"
  }
 },
 "nbformat": 4,
 "nbformat_minor": 2
}
